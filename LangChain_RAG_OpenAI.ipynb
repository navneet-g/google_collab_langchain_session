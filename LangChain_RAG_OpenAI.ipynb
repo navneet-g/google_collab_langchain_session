{
  "nbformat": 4,
  "nbformat_minor": 0,
  "metadata": {
    "colab": {
      "provenance": [],
      "authorship_tag": "ABX9TyN0IX/jsqkyFwJlIsnDkud6",
      "include_colab_link": true
    },
    "kernelspec": {
      "name": "python3",
      "display_name": "Python 3"
    },
    "language_info": {
      "name": "python"
    }
  },
  "cells": [
    {
      "cell_type": "markdown",
      "metadata": {
        "id": "view-in-github",
        "colab_type": "text"
      },
      "source": [
        "<a href=\"https://colab.research.google.com/github/navneet-g/google_collab_langchain_session/blob/main/LangChain_RAG_OpenAI.ipynb\" target=\"_parent\"><img src=\"https://colab.research.google.com/assets/colab-badge.svg\" alt=\"Open In Colab\"/></a>"
      ]
    },
    {
      "cell_type": "markdown",
      "source": [
        "Install dependencies"
      ],
      "metadata": {
        "id": "9SBa-Xz5UsjT"
      }
    },
    {
      "cell_type": "code",
      "source": [
        "!pip install --q -U langchain langchain_community \\\n",
        "openai langchain-openai selenium unstructured \\\n",
        "langchain-text-splitters unstructured faiss-cpu"
      ],
      "metadata": {
        "id": "dR8M2pjkS9VL"
      },
      "execution_count": 9,
      "outputs": []
    },
    {
      "cell_type": "markdown",
      "source": [
        "Import packages"
      ],
      "metadata": {
        "id": "0RfkxYk8Uojy"
      }
    },
    {
      "cell_type": "code",
      "source": [
        "from langchain_community.document_loaders import SeleniumURLLoader  # loading documents\n",
        "from langchain.text_splitter import CharacterTextSplitter  # splitting text\n",
        "from langchain_community.vectorstores import (\n",
        "    FAISS,\n",
        ")  # creating vector store from embeddings; can use chromadb instead as well\n",
        "from langchain.chains import RetrievalQA  # creating qa system\n",
        "from google.colab import userdata\n",
        "\n",
        "from langchain_openai import ChatOpenAI  # using llm for qa system\n",
        "from langchain_openai import OpenAIEmbeddings  # embedding text with openai\n",
        "import openai\n"
      ],
      "metadata": {
        "id": "jfS8y5GWUasT"
      },
      "execution_count": 10,
      "outputs": []
    },
    {
      "cell_type": "markdown",
      "source": [
        "Initialize LLM"
      ],
      "metadata": {
        "id": "OAHV47kDUjMy"
      }
    },
    {
      "cell_type": "code",
      "execution_count": 11,
      "metadata": {
        "id": "rh44cNbpyLZf"
      },
      "outputs": [],
      "source": [
        "openai_api_key=userdata.get('OPENAI_API_KEY')\n",
        "\n",
        "# docs https://python.langchain.com/docs/integrations/llms/google_ai/\n",
        "llm = ChatOpenAI(temperature=0, model_name=\"gpt-3.5-turbo\", openai_api_key=openai_api_key)"
      ]
    },
    {
      "cell_type": "markdown",
      "source": [
        "Load custom data"
      ],
      "metadata": {
        "id": "xcpYt8IXU5Sa"
      }
    },
    {
      "cell_type": "code",
      "source": [
        "\n",
        "# load url\n",
        "urls = [\n",
        "    \"https://en.wikipedia.org/wiki/96th_Academy_Awards\",\n",
        "]\n",
        "\n",
        "loader = SeleniumURLLoader(urls=urls)\n",
        "data = loader.load()\n",
        "\n",
        "\n",
        "# split document by character\n",
        "print(\"Splitting document by character...\")\n",
        "text_splitter = CharacterTextSplitter(\n",
        "    separator=\"\\n\", chunk_size=1000, chunk_overlap=200\n",
        ")\n",
        "\n",
        "# split into multiple documents\n",
        "print(\"Splitting into multiple documents...\")\n",
        "docs = text_splitter.split_documents(data)\n"
      ],
      "metadata": {
        "colab": {
          "base_uri": "https://localhost:8080/"
        },
        "id": "qdejpJf8StwK",
        "outputId": "797c6988-68c8-4af7-bdec-81a9380bb95b"
      },
      "execution_count": 12,
      "outputs": [
        {
          "output_type": "stream",
          "name": "stderr",
          "text": [
            "WARNING:langchain_text_splitters.base:Created a chunk of size 7822, which is longer than the specified 1000\n",
            "WARNING:langchain_text_splitters.base:Created a chunk of size 1686, which is longer than the specified 1000\n",
            "WARNING:langchain_text_splitters.base:Created a chunk of size 1710, which is longer than the specified 1000\n"
          ]
        },
        {
          "output_type": "stream",
          "name": "stdout",
          "text": [
            "Splitting document by character...\n",
            "Splitting into multiple documents...\n"
          ]
        }
      ]
    },
    {
      "cell_type": "markdown",
      "source": [
        "Create Vector Store"
      ],
      "metadata": {
        "id": "XnxV2WVdWAUV"
      }
    },
    {
      "cell_type": "code",
      "source": [
        "print(\"Creating vector store...\")\n",
        "# create vector store\n",
        "db = FAISS.from_documents(docs, OpenAIEmbeddings( openai_api_key=openai_api_key))\n"
      ],
      "metadata": {
        "colab": {
          "base_uri": "https://localhost:8080/"
        },
        "id": "MAW6djg1ToPH",
        "outputId": "7235ab41-9d07-42b1-f0b9-6ceabd2e3324"
      },
      "execution_count": 13,
      "outputs": [
        {
          "output_type": "stream",
          "name": "stdout",
          "text": [
            "Creating vector store...\n"
          ]
        }
      ]
    },
    {
      "cell_type": "code",
      "source": [
        "\n",
        "# create retriever to ask questions using openai and vector store\n",
        "print(\"Creating retriever...\")\n",
        "qa = RetrievalQA.from_chain_type(\n",
        "    llm=llm,\n",
        "    chain_type=\"stuff\",\n",
        "    retriever=db.as_retriever(search_kwargs={\"k\": 10}),\n",
        ")"
      ],
      "metadata": {
        "colab": {
          "base_uri": "https://localhost:8080/"
        },
        "id": "vbOK_5EqW523",
        "outputId": "14b59db1-bea3-491c-a0f7-26def6ae17e8"
      },
      "execution_count": 14,
      "outputs": [
        {
          "output_type": "stream",
          "name": "stdout",
          "text": [
            "Creating retriever...\n"
          ]
        }
      ]
    },
    {
      "cell_type": "code",
      "source": [
        "def ask_question(question):\n",
        "    print(\"Asking question: \" + question)\n",
        "    print(qa.invoke(question))\n"
      ],
      "metadata": {
        "id": "tdva2s-uXcXn"
      },
      "execution_count": 15,
      "outputs": []
    },
    {
      "cell_type": "code",
      "source": [
        "ask_question(\"Who were the academy awards winners?\")\n",
        "ask_question(\"What date did the academy awards happen?\")\n",
        "ask_question(\"What date did the 96th academy awards happen?\")"
      ],
      "metadata": {
        "colab": {
          "base_uri": "https://localhost:8080/"
        },
        "id": "PJ7dwrCnXedr",
        "outputId": "45216e14-719b-4c65-adb6-3cd81bef176a"
      },
      "execution_count": 17,
      "outputs": [
        {
          "output_type": "stream",
          "name": "stdout",
          "text": [
            "Asking question: Who were the academy awards winners?\n",
            "{'query': 'Who were the academy awards winners?', 'result': \"The winners of the 96th Academy Awards included Oppenheimer, which won 7 awards, Poor Things, which won 4 awards, and The Zone of Interest, which won 2 awards. Some of the winners in various categories were Hayao Miyazaki and Toshio Suzuki for Best Animated Feature, Ludwig Göransson for Best Original Score, and Billie Eilish and Finneas O'Connell for Best Original Song.\"}\n",
            "Asking question: List the names of all academy awards nominees\n",
            "{'query': 'List the names of all academy awards nominees', 'result': \"I don't have access to the full list of nominees for the 96th Academy Awards. You may want to check the official Academy of Motion Picture Arts and Sciences website or other reputable sources for the complete list of nominees.\"}\n",
            "Asking question: What date did the academy awards happen?\n",
            "{'query': 'What date did the academy awards happen?', 'result': 'The 96th Academy Awards ceremony took place on March 10, 2024, at the Dolby Theatre in Hollywood, Los Angeles.'}\n",
            "Asking question: What date did the 96th academy awards happen?\n",
            "{'query': 'What date did the 96th academy awards happen?', 'result': 'The 96th Academy Awards ceremony took place on March 10, 2024.'}\n"
          ]
        }
      ]
    },
    {
      "cell_type": "code",
      "source": [],
      "metadata": {
        "id": "8QnXxYD_Xgmq"
      },
      "execution_count": null,
      "outputs": []
    }
  ]
}